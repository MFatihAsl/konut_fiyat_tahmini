{
 "cells": [
  {
   "cell_type": "code",
   "execution_count": 93,
   "outputs": [],
   "source": [
    "import pandas as pd"
   ],
   "metadata": {
    "collapsed": false,
    "ExecuteTime": {
     "end_time": "2025-06-18T00:33:07.657824Z",
     "start_time": "2025-06-18T00:33:07.642210400Z"
    }
   },
   "id": "da4d502162ae3950"
  },
  {
   "cell_type": "code",
   "execution_count": 94,
   "outputs": [],
   "source": [
    "df = pd.read_excel(\"DENEMEVERİLER.xlsx\") # veri dosyasını okuyoruz"
   ],
   "metadata": {
    "collapsed": false,
    "ExecuteTime": {
     "end_time": "2025-06-18T00:33:08.947284600Z",
     "start_time": "2025-06-18T00:33:07.657824Z"
    }
   },
   "id": "e6c21b58f9099e9e"
  },
  {
   "cell_type": "code",
   "execution_count": 95,
   "outputs": [],
   "source": [
    "df = df.drop_duplicates(keep='first')   # Kopya verilerin tekini bırakıp tekini siliyoruz"
   ],
   "metadata": {
    "collapsed": false,
    "ExecuteTime": {
     "end_time": "2025-06-18T00:33:08.962903100Z",
     "start_time": "2025-06-18T00:33:08.947284600Z"
    }
   },
   "id": "5ea7be5b4f8c6dc6"
  },
  {
   "cell_type": "code",
   "execution_count": 96,
   "outputs": [],
   "source": [
    "df[\"Fiyat\"] = df[\"Fiyat\"].str.replace(\" TL\", \"\", regex=False).str.replace(\".\", \"\", regex=False).astype(\"float64\")"
   ],
   "metadata": {
    "collapsed": false,
    "ExecuteTime": {
     "end_time": "2025-06-18T00:33:08.978527200Z",
     "start_time": "2025-06-18T00:33:08.962903100Z"
    }
   },
   "id": "f5d5f86b1fd63be5"
  },
  {
   "cell_type": "code",
   "execution_count": 97,
   "outputs": [],
   "source": [
    "def temizle_m2(deger):\n",
    "    try:\n",
    "        return float(str(deger).replace(\" m²\", \"\").replace(\",\", \".\"))\n",
    "    except:\n",
    "        return None\n",
    "\n",
    "df[\"Net m2\"] = df[\"Net m2\"].apply(temizle_m2)\n",
    "df[\"Brüt m2\"] = df[\"Brüt m2\"].apply(temizle_m2)\n"
   ],
   "metadata": {
    "collapsed": false,
    "ExecuteTime": {
     "end_time": "2025-06-18T00:33:08.994155200Z",
     "start_time": "2025-06-18T00:33:08.978527200Z"
    }
   },
   "id": "efee33a13826f09a"
  },
  {
   "cell_type": "code",
   "execution_count": 98,
   "outputs": [],
   "source": [
    "def ayir_oda_salon(deger):\n",
    "    try:\n",
    "        oda, salon = deger.split(\"+\")\n",
    "        return pd.Series([int(oda), int(salon)])\n",
    "    except:\n",
    "        return pd.Series([9, 1])    # Bazı değerler 9+Oda şeklinde yazılmış o değerlere atama\n",
    "\n",
    "df[[\"Oda\", \"Salon\"]] = df[\"Oda Sayısı\"].apply(ayir_oda_salon)"
   ],
   "metadata": {
    "collapsed": false,
    "ExecuteTime": {
     "end_time": "2025-06-18T00:33:09.449197500Z",
     "start_time": "2025-06-18T00:33:08.994155200Z"
    }
   },
   "id": "2e4e25db3069a466"
  },
  {
   "cell_type": "code",
   "execution_count": 99,
   "outputs": [],
   "source": [
    "def temizle_bina_yasi(yas):\n",
    "    if pd.isna(yas):\n",
    "        return None\n",
    "    if \"Yeni\" in yas:\n",
    "        return 0\n",
    "    if \"-\" in yas:  # örn: 5-10\n",
    "        min_yas, max_yas = yas.split(\"-\")\n",
    "        return (int(min_yas) + int(max_yas)) / 2\n",
    "    if \"Ve Üzeri\" in yas:\n",
    "        return 21\n",
    "    try:\n",
    "        return int(yas)\n",
    "    except:\n",
    "        return None\n",
    "\n",
    "df[\"Bina Yaşı\"] = df[\"Bina Yaşı\"].apply(temizle_bina_yasi)"
   ],
   "metadata": {
    "collapsed": false,
    "ExecuteTime": {
     "end_time": "2025-06-18T00:33:09.464822Z",
     "start_time": "2025-06-18T00:33:09.449197500Z"
    }
   },
   "id": "1b097d2a2978af82"
  },
  {
   "cell_type": "code",
   "execution_count": 100,
   "outputs": [],
   "source": [
    "# 1. \"Toplam Kat\" içinde ısıtma tipi olanları tespit et\n",
    "isitma_tipleri = [\"Kombi Doğalgaz\", \"Yerden Isıtma\", \"Doğalgaz Sobalı\", \"Merkezi Doğalgaz\", \"Sobalı\",\"Isıtma Yok\",\"Klimalı\",\"Kat Kaloriferi\",\"Merkezi (Pay Ölçer)\",\"Isı Pompası\"]\n",
    "mask_isitma_in_toplamkat = df[\"Toplam Kat\"].astype(str).isin(isitma_tipleri)"
   ],
   "metadata": {
    "collapsed": false,
    "ExecuteTime": {
     "end_time": "2025-06-18T00:33:09.482554Z",
     "start_time": "2025-06-18T00:33:09.466927500Z"
    }
   },
   "id": "f058bf4ecd3364e0"
  },
  {
   "cell_type": "code",
   "execution_count": 101,
   "outputs": [],
   "source": [
    "# 2. Bu hatalı değerleri \"Isıtma Tipi\" sütununa taşı\n",
    "df[\"Isıtma Tipi\"] = df[\"Isıtma Tipi\"].astype(\"object\")   # Bu satır olmasa da olur ama ileride problem çıkma ihtimaline karşı pandas uyarı verdi\n",
    "df.loc[mask_isitma_in_toplamkat, \"Isıtma Tipi\"] = df.loc[mask_isitma_in_toplamkat, \"Toplam Kat\"]"
   ],
   "metadata": {
    "collapsed": false,
    "ExecuteTime": {
     "end_time": "2025-06-18T00:33:09.498181Z",
     "start_time": "2025-06-18T00:33:09.482554Z"
    }
   },
   "id": "6309408840a67c3d"
  },
  {
   "cell_type": "code",
   "execution_count": 102,
   "outputs": [],
   "source": [
    "df[\"Toplam Kat\"] = pd.to_numeric(df[\"Toplam Kat\"], errors=\"coerce\")\n"
   ],
   "metadata": {
    "collapsed": false,
    "ExecuteTime": {
     "end_time": "2025-06-18T00:33:09.513806200Z",
     "start_time": "2025-06-18T00:33:09.498181Z"
    }
   },
   "id": "1f15beb530f5f21a"
  },
  {
   "cell_type": "code",
   "execution_count": 103,
   "outputs": [],
   "source": [
    "def temizle_kat(kat_str, toplam_kat):\n",
    "    if pd.isna(kat_str):\n",
    "        return 0\n",
    "    kat_str = kat_str.lower()\n",
    "    if \"bahçe\" in kat_str or \"giriş\" in kat_str or \"zemin\" in kat_str:\n",
    "        return 0\n",
    "    elif \"çatı\" in kat_str or \"dubleks\" in kat_str:\n",
    "        return toplam_kat\n",
    "    else:\n",
    "        try:\n",
    "            return float(kat_str.split(\".\")[0])\n",
    "        except:\n",
    "            return None\n",
    "\n",
    "df[\"Kat (Sayı)\"] = df.apply(lambda row: temizle_kat(row[\"Kat\"], row[\"Toplam Kat\"]), axis=1)"
   ],
   "metadata": {
    "collapsed": false,
    "ExecuteTime": {
     "end_time": "2025-06-18T00:33:09.562925700Z",
     "start_time": "2025-06-18T00:33:09.513806200Z"
    }
   },
   "id": "d9337f7e389adfd3"
  },
  {
   "cell_type": "code",
   "execution_count": 104,
   "outputs": [
    {
     "name": "stdout",
     "output_type": "stream",
     "text": [
      "<bound method DataFrame.info of            Fiyat  Net m2  Brüt m2 Oda Sayısı  Bina Yaşı           Kat  \\\n",
      "0      7200000.0   145.0    160.0        3+1        2.0         7.Kat   \n",
      "1      4100000.0   115.0    135.0        2+1        0.0         6.Kat   \n",
      "2      7800000.0   240.0    260.0        6+1       13.0         4.Kat   \n",
      "3     19000000.0   202.0    249.0        4+1        7.5        17.Kat   \n",
      "4      2300000.0   400.0    500.0        3+1       21.0         3.Kat   \n",
      "...          ...     ...      ...        ...        ...           ...   \n",
      "6310   3570000.0   115.0    297.0        4+0       21.0             1   \n",
      "6311   2450000.0    95.0    110.0        2+1        0.0         1.Kat   \n",
      "6312   1700000.0   120.0    234.0      4.5+1       18.0             1   \n",
      "6313   1350000.0   100.0    124.0        4+3       21.0             2   \n",
      "6314   2800000.0   140.0    160.0        3+1       13.0  Çatı Dubleks   \n",
      "\n",
      "      Toplam Kat     Isıtma Tipi     İl       İlçe     Mahalle  \\\n",
      "0            7.0             NaN  Bursa    Nilüfer       Konak   \n",
      "1            7.0             NaN  Bursa    Nilüfer    Hasanağa   \n",
      "2            4.0             NaN  Bursa    Nilüfer    Beşevler   \n",
      "3           21.0             NaN  Bursa    Nilüfer     Odunluk   \n",
      "4            4.0             NaN  Bursa    Nilüfer    Işıktepe   \n",
      "...          ...             ...    ...        ...         ...   \n",
      "6310         NaN  Kombi Doğalgaz  Bursa  Yenişehir  Yüzüncüyıl   \n",
      "6311         3.0             NaN  Bursa  Yenişehir    Kurtuluş   \n",
      "6312         NaN  Kombi Doğalgaz  Bursa  Yenişehir        Yeni   \n",
      "6313         NaN          Sobalı  Bursa  Yenişehir     Ulucami   \n",
      "6314         5.0             NaN  Bursa  Yenişehir   Hıdırbali   \n",
      "\n",
      "     Site İçinde mi?  Oda  Salon  Kat (Sayı)  \n",
      "0              Hayır    3      1         7.0  \n",
      "1              Hayır    2      1         6.0  \n",
      "2              Hayır    6      1         4.0  \n",
      "3              Hayır    4      1        17.0  \n",
      "4              Hayır    3      1         3.0  \n",
      "...              ...  ...    ...         ...  \n",
      "6310           Hayır    4      0         1.0  \n",
      "6311           Hayır    2      1         1.0  \n",
      "6312           Hayır    9      1         1.0  \n",
      "6313           Hayır    4      3         2.0  \n",
      "6314           Hayır    3      1         5.0  \n",
      "\n",
      "[6228 rows x 15 columns]>\n",
      "Fiyat              float64\n",
      "Net m2             float64\n",
      "Brüt m2            float64\n",
      "Oda Sayısı          object\n",
      "Bina Yaşı          float64\n",
      "Kat                 object\n",
      "Toplam Kat         float64\n",
      "Isıtma Tipi         object\n",
      "İl                  object\n",
      "İlçe                object\n",
      "Mahalle             object\n",
      "Site İçinde mi?     object\n",
      "Oda                  int64\n",
      "Salon                int64\n",
      "Kat (Sayı)         float64\n",
      "dtype: object\n",
      "              Fiyat       Net m2      Brüt m2    Bina Yaşı   Toplam Kat  \\\n",
      "count  6.228000e+03  6228.000000  6225.000000  6227.000000  5348.000000   \n",
      "mean   5.237233e+06   127.745551   151.809621    10.330255     4.822364   \n",
      "std    4.470612e+07    75.629556    95.006253     8.520860     2.351768   \n",
      "min    2.000000e+04     1.000000     1.000000     0.000000     1.000000   \n",
      "25%    2.373500e+06    85.000000   100.000000     1.000000     4.000000   \n",
      "50%    3.330000e+06   113.000000   130.000000     7.500000     5.000000   \n",
      "75%    4.900000e+06   140.000000   166.000000    21.000000     5.000000   \n",
      "max    3.500000e+09   900.000000   998.000000    21.000000    27.000000   \n",
      "\n",
      "               Oda        Salon   Kat (Sayı)  \n",
      "count  6228.000000  6228.000000  6040.000000  \n",
      "mean      2.973667     1.041747     2.811921  \n",
      "std       1.566659     0.246102     2.075186  \n",
      "min       1.000000     0.000000     0.000000  \n",
      "25%       2.000000     1.000000     2.000000  \n",
      "50%       3.000000     1.000000     3.000000  \n",
      "75%       3.000000     1.000000     4.000000  \n",
      "max       9.000000     4.000000    25.000000  \n",
      "Fiyat                 0\n",
      "Net m2                0\n",
      "Brüt m2               3\n",
      "Oda Sayısı            0\n",
      "Bina Yaşı             1\n",
      "Kat                   0\n",
      "Toplam Kat          880\n",
      "Isıtma Tipi        5379\n",
      "İl                    0\n",
      "İlçe                  0\n",
      "Mahalle               0\n",
      "Site İçinde mi?       0\n",
      "Oda                   0\n",
      "Salon                 0\n",
      "Kat (Sayı)          188\n",
      "dtype: int64\n"
     ]
    }
   ],
   "source": [
    "print(df.info)   # Veri seti hakkında genel bilgi (sütun sayısı, veri tipi, eksik değer var mı vs.)\n",
    "\n",
    "print(df.dtypes)   # Her sütunun veri tipini gösterir – int, float, object gibi\n",
    "\n",
    "print(df.describe())  # Sayısal sütunlar için istatistiksel özet – ortalama, std, min, max gibi değerleri verir\n",
    "\n",
    "print(df.isnull().sum())  # Hangi sütunda kaç adet eksik (null/NaN) veri olduğunu listeler"
   ],
   "metadata": {
    "collapsed": false,
    "ExecuteTime": {
     "end_time": "2025-06-18T00:33:09.625437600Z",
     "start_time": "2025-06-18T00:33:09.560684600Z"
    }
   },
   "id": "852d1fa078f2130d"
  },
  {
   "cell_type": "code",
   "execution_count": 105,
   "outputs": [],
   "source": [
    "# Kat (Sayı) sütununu sayıya çevir\n",
    "df[\"Kat (Sayı)\"] = pd.to_numeric(df[\"Kat (Sayı)\"], errors=\"coerce\")\n",
    "\n",
    "# Eksik değerleri mod ile doldur\n",
    "df[\"Kat (Sayı)\"] = df[\"Kat (Sayı)\"].fillna(df[\"Kat (Sayı)\"].mode()[0])\n",
    "df[\"Toplam Kat\"] = df.apply(\n",
    "    lambda row: row[\"Kat (Sayı)\"] + 1 if pd.isna(row[\"Toplam Kat\"]) else row[\"Toplam Kat\"],   # Boşlukları Kat sayısının 1 fazlasını alarak dolduruyorum\n",
    "    axis=1\n",
    ")"
   ],
   "metadata": {
    "collapsed": false,
    "ExecuteTime": {
     "end_time": "2025-06-18T00:33:09.641057Z",
     "start_time": "2025-06-18T00:33:09.594188800Z"
    }
   },
   "id": "83d797396a9ed404"
  },
  {
   "cell_type": "code",
   "execution_count": 106,
   "outputs": [],
   "source": [
    "# \"Toplam Kat\" >= 4 olan ve \"Site içinde mi\" değeri \"Hayır\" olan satırları seçiyoruz\n",
    "mask = (df[\"Toplam Kat\"] >= 4) & (df[\"Site İçinde mi?\"] == \"Hayır\")\n",
    "hayir_index = df[mask].index\n",
    "\n",
    "# Rastgele karıştırmak için sample kullanalım\n",
    "hayir_index_shuffled = hayir_index.to_series().sample(frac=1, random_state=42)\n",
    "\n",
    "# Güncellenecek miktarları hesapla(Yüzdelik hesabına göre yaptım %28.99 site içerisinde)\n",
    "total = len(hayir_index_shuffled)\n",
    "evet_count = int(total * 0.2899)\n",
    "hayir_count = total - evet_count\n",
    "\n",
    "# Güncellemeyi yap\n",
    "df.loc[hayir_index_shuffled[:evet_count], \"Site İçinde mi?\"] = \"Evet\"\n",
    "df.loc[hayir_index_shuffled[evet_count:], \"Site İçinde mi?\"] = \"Hayır\""
   ],
   "metadata": {
    "collapsed": false,
    "ExecuteTime": {
     "end_time": "2025-06-18T00:33:09.656682900Z",
     "start_time": "2025-06-18T00:33:09.641057Z"
    }
   },
   "id": "7ada2dca64037ef6"
  },
  {
   "cell_type": "code",
   "execution_count": 107,
   "outputs": [],
   "source": [
    "# Eksik Isıtma Tipi olanların indekslerini al\n",
    "isitma_nan_index = df[df[\"Isıtma Tipi\"].isna()].index\n",
    "\n",
    "# Karışık sıralı rastgele indeksler oluştur \n",
    "shuffled_index = isitma_nan_index.to_series().sample(frac=1, random_state=42).values\n",
    "\n",
    "# Toplam eksik sayısı\n",
    "total = len(shuffled_index)\n",
    "\n",
    "# Her kategorinin sayısı\n",
    "kombi_count = int(total * 0.6303)\n",
    "merkezi_count = int(total * 0.22)           # Sitedeki oranlara göre ayarladım\n",
    "dogalgaz_yok_count = total - kombi_count - merkezi_count\n",
    "\n",
    "# Rastgele karışık indeksleri kullanarak değerleri atıyoruz\n",
    "df.loc[shuffled_index[:kombi_count], \"Isıtma Tipi\"] = \"Kombi Doğalgaz\"\n",
    "df.loc[shuffled_index[kombi_count:kombi_count + merkezi_count], \"Isıtma Tipi\"] = \"Merkezi Doğalgaz\"\n",
    "df.loc[shuffled_index[kombi_count + merkezi_count:], \"Isıtma Tipi\"] = \"Isıtma Yok\""
   ],
   "metadata": {
    "collapsed": false,
    "ExecuteTime": {
     "end_time": "2025-06-18T00:33:09.672309100Z",
     "start_time": "2025-06-18T00:33:09.656682900Z"
    }
   },
   "id": "2ea363175eacf7a3"
  },
  {
   "cell_type": "code",
   "execution_count": 108,
   "outputs": [
    {
     "name": "stdout",
     "output_type": "stream",
     "text": [
      "Fiyat              0\n",
      "Net m2             0\n",
      "Brüt m2            3\n",
      "Oda Sayısı         0\n",
      "Bina Yaşı          1\n",
      "Kat                0\n",
      "Toplam Kat         0\n",
      "Isıtma Tipi        0\n",
      "İl                 0\n",
      "İlçe               0\n",
      "Mahalle            0\n",
      "Site İçinde mi?    0\n",
      "Oda                0\n",
      "Salon              0\n",
      "Kat (Sayı)         0\n",
      "dtype: int64\n",
      "Empty DataFrame\n",
      "Columns: [Fiyat, Net m2, Brüt m2, Oda Sayısı, Bina Yaşı, Kat, Toplam Kat, Isıtma Tipi, İl, İlçe, Mahalle, Site İçinde mi?, Oda, Salon, Kat (Sayı)]\n",
      "Index: []\n"
     ]
    }
   ],
   "source": [
    "# tekrar kontrol ediyoruz \n",
    "print(df.isnull().sum()) \n",
    "\n",
    "# Tamamen aynı olan satırları getirir (her biri dahil)\n",
    "duplicate_rows = df[df.duplicated(keep=False)]\n",
    "\n",
    "# Kopya kayıtları görüntüle\n",
    "print(duplicate_rows)"
   ],
   "metadata": {
    "collapsed": false,
    "ExecuteTime": {
     "end_time": "2025-06-18T00:33:09.721686300Z",
     "start_time": "2025-06-18T00:33:09.674798400Z"
    }
   },
   "id": "7296cab87c531f16"
  },
  {
   "cell_type": "code",
   "execution_count": 109,
   "outputs": [],
   "source": [
    "df_cleaned = df.drop(columns=[\"Kat\", \"Oda Sayısı\"])   # Gereksiz sutünları kaldırıyoruz"
   ],
   "metadata": {
    "collapsed": false,
    "ExecuteTime": {
     "end_time": "2025-06-18T00:33:09.721686300Z",
     "start_time": "2025-06-18T00:33:09.690425900Z"
    }
   },
   "id": "4cf591ce9238fd6b"
  },
  {
   "cell_type": "code",
   "execution_count": 110,
   "outputs": [
    {
     "name": "stdout",
     "output_type": "stream",
     "text": [
      "✅ Temiz veri 'temizVeri_Bursa.xlsx' dosyasına kaydedildi.\n"
     ]
    }
   ],
   "source": [
    "df_cleaned.to_excel(\"temizVeri_Bursa.xlsx\", index=False, engine=\"openpyxl\")\n",
    "print(\"✅ Temiz veri 'temizVeri_Bursa.xlsx' dosyasına kaydedildi.\")"
   ],
   "metadata": {
    "collapsed": false,
    "ExecuteTime": {
     "end_time": "2025-06-18T00:33:11.086092500Z",
     "start_time": "2025-06-18T00:33:09.706050700Z"
    }
   },
   "id": "bfb686b8a7aafe91"
  }
 ],
 "metadata": {
  "kernelspec": {
   "display_name": "Python 3",
   "language": "python",
   "name": "python3"
  },
  "language_info": {
   "codemirror_mode": {
    "name": "ipython",
    "version": 2
   },
   "file_extension": ".py",
   "mimetype": "text/x-python",
   "name": "python",
   "nbconvert_exporter": "python",
   "pygments_lexer": "ipython2",
   "version": "2.7.6"
  }
 },
 "nbformat": 4,
 "nbformat_minor": 5
}
